{
 "cells": [
  {
   "cell_type": "code",
   "execution_count": 3,
   "metadata": {},
   "outputs": [],
   "source": [
    "import pandas as pd\n",
    "import numpy as np"
   ]
  },
  {
   "cell_type": "code",
   "execution_count": 4,
   "metadata": {},
   "outputs": [],
   "source": [
    "df=pd.read_csv('train.csv',encoding='ISO-8859-1')"
   ]
  },
  {
   "cell_type": "code",
   "execution_count": 5,
   "metadata": {},
   "outputs": [
    {
     "data": {
      "text/html": [
       "<div>\n",
       "<style scoped>\n",
       "    .dataframe tbody tr th:only-of-type {\n",
       "        vertical-align: middle;\n",
       "    }\n",
       "\n",
       "    .dataframe tbody tr th {\n",
       "        vertical-align: top;\n",
       "    }\n",
       "\n",
       "    .dataframe thead th {\n",
       "        text-align: right;\n",
       "    }\n",
       "</style>\n",
       "<table border=\"1\" class=\"dataframe\">\n",
       "  <thead>\n",
       "    <tr style=\"text-align: right;\">\n",
       "      <th></th>\n",
       "      <th>Item ID</th>\n",
       "      <th>Sentiment</th>\n",
       "      <th>SentimentText</th>\n",
       "    </tr>\n",
       "  </thead>\n",
       "  <tbody>\n",
       "    <tr>\n",
       "      <th>0</th>\n",
       "      <td>1</td>\n",
       "      <td>0</td>\n",
       "      <td>@RailMinIndia My PNR is 8348062961, I am in wa...</td>\n",
       "    </tr>\n",
       "    <tr>\n",
       "      <th>1</th>\n",
       "      <td>2</td>\n",
       "      <td>0</td>\n",
       "      <td>@sureshpprabhu @RailMinIndia AC not working in...</td>\n",
       "    </tr>\n",
       "    <tr>\n",
       "      <th>2</th>\n",
       "      <td>3</td>\n",
       "      <td>0</td>\n",
       "      <td>@RailMinIndia I'm traveling to chennai by trai...</td>\n",
       "    </tr>\n",
       "    <tr>\n",
       "      <th>3</th>\n",
       "      <td>4</td>\n",
       "      <td>5</td>\n",
       "      <td>@RailMinIndia irctc is not responding at the t...</td>\n",
       "    </tr>\n",
       "    <tr>\n",
       "      <th>4</th>\n",
       "      <td>5</td>\n",
       "      <td>7</td>\n",
       "      <td>@DRMbhopal @RailMinIndia @sanjaygupta2012 @drm...</td>\n",
       "    </tr>\n",
       "  </tbody>\n",
       "</table>\n",
       "</div>"
      ],
      "text/plain": [
       "   Item ID  Sentiment                                      SentimentText\n",
       "0        1          0  @RailMinIndia My PNR is 8348062961, I am in wa...\n",
       "1        2          0  @sureshpprabhu @RailMinIndia AC not working in...\n",
       "2        3          0  @RailMinIndia I'm traveling to chennai by trai...\n",
       "3        4          5  @RailMinIndia irctc is not responding at the t...\n",
       "4        5          7  @DRMbhopal @RailMinIndia @sanjaygupta2012 @drm..."
      ]
     },
     "execution_count": 5,
     "metadata": {},
     "output_type": "execute_result"
    }
   ],
   "source": [
    "df.head(5)"
   ]
  },
  {
   "cell_type": "code",
   "execution_count": 15,
   "metadata": {},
   "outputs": [],
   "source": [
    "def categorize_complaint(text):\n",
    "    text = text.lower()\n",
    "    \n",
    "    # Keywords for each category\n",
    "    damage_keywords = [\"broken\", \"damaged\", \"cracked\", \"malfunction\", \"faulty\", \"repair\",]\n",
    "    unhygienic_keywords = [\"dirty\", \"unclean\", \"smell\", \"filthy\", \"hygiene\", \"unsanitary\",\"toilet\"]\n",
    "    food_keywords = [\"meal\", \"food\", \"snack\", \"beverage\", \"stale\", \"catering\", \"water\"]\n",
    "    violence_keywords = [\"fight\", \"assault\", \"abuse\", \"threat\", \"violence\", \"harass\", \"attack\"]\n",
    "    management_keywords=['staff','ticket','birth','seat','station','money','luggage','delay','service','late','delay']\n",
    "    # Categorize based on keywords\n",
    "    if any(keyword in text for keyword in damage_keywords):\n",
    "        return \"Damage\"\n",
    "    elif any(keyword in text for keyword in unhygienic_keywords):\n",
    "        return \"Unhygienic\"\n",
    "    elif any(keyword in text for keyword in food_keywords):\n",
    "        return \"Food\"\n",
    "    elif any(keyword in text for keyword in violence_keywords):\n",
    "        return \"Violence\"\n",
    "    elif any(keyword in text for keyword in management_keywords ):\n",
    "        return \"management\"\n",
    "    else:\n",
    "        return \"Others\"\n"
   ]
  },
  {
   "cell_type": "code",
   "execution_count": 16,
   "metadata": {},
   "outputs": [
    {
     "name": "stdout",
     "output_type": "stream",
     "text": [
      "   Item ID                                      SentimentText    Category\n",
      "0        1  @RailMinIndia My PNR is 8348062961, I am in wa...  Unhygienic\n",
      "1        2  @sureshpprabhu @RailMinIndia AC not working in...  management\n",
      "2        3  @RailMinIndia I'm traveling to chennai by trai...  Unhygienic\n",
      "3        4  @RailMinIndia irctc is not responding at the t...      Others\n",
      "4        5  @DRMbhopal @RailMinIndia @sanjaygupta2012 @drm...      Others\n"
     ]
    }
   ],
   "source": [
    "# Apply the categorization function to the SentimentText column\n",
    "df['Category'] =df['SentimentText'].apply(categorize_complaint)\n",
    "\n",
    "# Display the first few rows with the new Category column\n",
    "print(df[['Item ID', 'SentimentText', 'Category']].head())\n"
   ]
  },
  {
   "cell_type": "code",
   "execution_count": 17,
   "metadata": {},
   "outputs": [],
   "source": [
    "# Save the updated dataframe to a new CSV file\n",
    "output_file_path = 'categorized_train1.csv'\n",
    "df.to_csv(output_file_path, index=False)\n"
   ]
  }
 ],
 "metadata": {
  "kernelspec": {
   "display_name": "Python 3",
   "language": "python",
   "name": "python3"
  },
  "language_info": {
   "codemirror_mode": {
    "name": "ipython",
    "version": 3
   },
   "file_extension": ".py",
   "mimetype": "text/x-python",
   "name": "python",
   "nbconvert_exporter": "python",
   "pygments_lexer": "ipython3",
   "version": "3.12.4"
  }
 },
 "nbformat": 4,
 "nbformat_minor": 2
}
